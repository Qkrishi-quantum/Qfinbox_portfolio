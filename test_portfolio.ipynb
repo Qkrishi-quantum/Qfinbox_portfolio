{
 "cells": [
  {
   "cell_type": "code",
   "execution_count": 1,
   "metadata": {},
   "outputs": [],
   "source": [
    "from portfolio import dwave_classical_portfolio"
   ]
  },
  {
   "cell_type": "code",
   "execution_count": 2,
   "metadata": {},
   "outputs": [
    {
     "name": "stdout",
     "output_type": "stream",
     "text": [
      "stock names  ['ADANIPORTS.NS', 'AXISBANK.NS', 'BHARTIARTL.NS', 'COALINDIA.NS', 'HCLTECH.NS', 'HINDALCO.NS', 'ICICIBANK.NS', 'INFY.NS', 'IOC.NS', 'ITC.NS']\n",
      "budget is  10000\n",
      "last stock_prices  {'ADANIPORTS.NS': 795.4000244141, 'AXISBANK.NS': 988.8499755859, 'BHARTIARTL.NS': 930.75, 'COALINDIA.NS': 312.0, 'HCLTECH.NS': 1266.25, 'HINDALCO.NS': 475.200012207, 'ICICIBANK.NS': 933.799987793, 'INFY.NS': 1389.0500488281, 'IOC.NS': 95.9000015259, 'ITC.NS': 433.25}\n",
      "executed on real qpu\n",
      " selected assets  ['BHARTIARTL.NS', 'HCLTECH.NS', 'ICICIBANK.NS', 'INFY.NS', 'ITC.NS']\n",
      "normalised weights :\n",
      "x0 [0.25715653 0.17040922 0.34000226 0.18658901 0.04584298]\n",
      "sharpe ratio of your porrtfolio after optimization is  1.201873621465503\n",
      "optimal weights  {'BHARTIARTL.NS': 0.357, 'HCLTECH.NS': 0.394, 'ICICIBANK.NS': 0.148, 'ITC.NS': 0.101}\n",
      "opt number of stocks  {'BHARTIARTL.NS': 3, 'HCLTECH.NS': 3, 'ICICIBANK.NS': 1, 'ITC.NS': 2}\n"
     ]
    }
   ],
   "source": [
    "risk_factor = 1.0\n",
    "budget = 10000\n",
    "\n",
    "stocks = [\"ADANIPORTS.NS\",\"AXISBANK.NS\", \"BHARTIARTL.NS\", \"COALINDIA.NS\", \"HCLTECH.NS\", \"HINDALCO.NS\",\"ICICIBANK.NS\",\"INFY.NS\",\"IOC.NS\",\"ITC.NS\"]\n",
    "\n",
    "\n",
    "portfolio= dwave_classical_portfolio(stocks, risk_factor, budget)\n",
    "\n",
    "optimal_portfolio = portfolio.portfolio_dwave()"
   ]
  },
  {
   "cell_type": "code",
   "execution_count": 3,
   "metadata": {},
   "outputs": [
    {
     "data": {
      "text/plain": [
       "{'holdings': {'BHARTIARTL.NS': 0.357,\n",
       "  'HCLTECH.NS': 0.394,\n",
       "  'ICICIBANK.NS': 0.148,\n",
       "  'ITC.NS': 0.101},\n",
       " 'optimal_num_stocks': {'BHARTIARTL.NS': 3,\n",
       "  'HCLTECH.NS': 3,\n",
       "  'ICICIBANK.NS': 1,\n",
       "  'ITC.NS': 2},\n",
       " 'risk_ret': {'returns': 26.268263207450666,\n",
       "  'risk': 21.85609430001508,\n",
       "  'sharpe_ratio': 1.201873621465503},\n",
       " 'initial_investment': 8391.299987793}"
      ]
     },
     "execution_count": 3,
     "metadata": {},
     "output_type": "execute_result"
    }
   ],
   "source": [
    "optimal_portfolio"
   ]
  },
  {
   "cell_type": "code",
   "execution_count": null,
   "metadata": {},
   "outputs": [],
   "source": []
  },
  {
   "cell_type": "code",
   "execution_count": null,
   "metadata": {},
   "outputs": [],
   "source": []
  }
 ],
 "metadata": {
  "kernelspec": {
   "display_name": "base",
   "language": "python",
   "name": "python3"
  },
  "language_info": {
   "codemirror_mode": {
    "name": "ipython",
    "version": 3
   },
   "file_extension": ".py",
   "mimetype": "text/x-python",
   "name": "python",
   "nbconvert_exporter": "python",
   "pygments_lexer": "ipython3",
   "version": "3.10.9"
  },
  "orig_nbformat": 4
 },
 "nbformat": 4,
 "nbformat_minor": 2
}
